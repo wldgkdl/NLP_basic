{
 "cells": [
  {
   "cell_type": "code",
   "execution_count": 1,
   "id": "related-temperature",
   "metadata": {},
   "outputs": [],
   "source": [
    "import re"
   ]
  },
  {
   "cell_type": "code",
   "execution_count": null,
   "id": "recorded-destiny",
   "metadata": {},
   "outputs": [],
   "source": []
  },
  {
   "cell_type": "markdown",
   "id": "about-faculty",
   "metadata": {},
   "source": [
    "#### Find all ####"
   ]
  },
  {
   "cell_type": "markdown",
   "id": "exposed-preservation",
   "metadata": {},
   "source": [
    "return all strings with list format which satisfy normal expression"
   ]
  },
  {
   "cell_type": "code",
   "execution_count": 7,
   "id": "three-worst",
   "metadata": {},
   "outputs": [
    {
     "name": "stdout",
     "output_type": "stream",
     "text": [
      "['1', '2', '4']\n",
      "['@', '#', '$', '@', '$', '$']\n"
     ]
    }
   ],
   "source": [
    "string = '1ifno2fnadoi4afa'\n",
    "print(re.findall('[\\d]',string))\n",
    "\n",
    "string = '@#$adfqon@$$fa'\n",
    "print(re.findall('[\\W]', string))"
   ]
  },
  {
   "cell_type": "markdown",
   "id": "chubby-remainder",
   "metadata": {},
   "source": [
    "#### Find iter ####"
   ]
  },
  {
   "cell_type": "markdown",
   "id": "false-convergence",
   "metadata": {},
   "source": [
    "return results with interation format which satisfy normal expression"
   ]
  },
  {
   "cell_type": "code",
   "execution_count": 5,
   "id": "reported-bunny",
   "metadata": {},
   "outputs": [
    {
     "name": "stdout",
     "output_type": "stream",
     "text": [
      "<re.Match object; span=(0, 1), match='1'>\n",
      "<re.Match object; span=(5, 6), match='2'>\n",
      "<re.Match object; span=(12, 13), match='4'>\n",
      "<re.Match object; span=(0, 1), match='@'>\n",
      "<re.Match object; span=(1, 2), match='#'>\n",
      "<re.Match object; span=(2, 3), match='$'>\n",
      "<re.Match object; span=(9, 10), match='@'>\n",
      "<re.Match object; span=(10, 11), match='$'>\n",
      "<re.Match object; span=(11, 12), match='$'>\n"
     ]
    }
   ],
   "source": [
    "string = '1ifno2fnadoi4afa'\n",
    "interated = re.finditer('[\\d]',string)\n",
    "for element in interated:\n",
    "    print(element)\n",
    "\n",
    "string = '@#$adfqon@$$fa'\n",
    "interated = re.finditer('[\\W]', string)\n",
    "for element in interated:\n",
    "    print(element)"
   ]
  },
  {
   "cell_type": "markdown",
   "id": "solid-leave",
   "metadata": {},
   "source": [
    "#### Tokinization ####"
   ]
  },
  {
   "cell_type": "code",
   "execution_count": null,
   "id": "dependent-doubt",
   "metadata": {},
   "outputs": [],
   "source": []
  }
 ],
 "metadata": {
  "kernelspec": {
   "display_name": "Python 3",
   "language": "python",
   "name": "python3"
  },
  "language_info": {
   "codemirror_mode": {
    "name": "ipython",
    "version": 3
   },
   "file_extension": ".py",
   "mimetype": "text/x-python",
   "name": "python",
   "nbconvert_exporter": "python",
   "pygments_lexer": "ipython3",
   "version": "3.7.4"
  }
 },
 "nbformat": 4,
 "nbformat_minor": 5
}
